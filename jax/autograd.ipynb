{
 "cells": [
  {
   "cell_type": "code",
   "execution_count": 1,
   "metadata": {
    "collapsed": true,
    "ExecuteTime": {
     "end_time": "2023-05-07T22:46:05.699797398Z",
     "start_time": "2023-05-07T22:46:02.068145392Z"
    }
   },
   "outputs": [],
   "source": [
    "import jax\n",
    "import jax.numpy as jnp"
   ]
  },
  {
   "cell_type": "code",
   "execution_count": 2,
   "outputs": [],
   "source": [
    "from jax import grad, jit, vmap\n",
    "from jax import random"
   ],
   "metadata": {
    "collapsed": false,
    "ExecuteTime": {
     "end_time": "2023-05-07T22:46:05.700966650Z",
     "start_time": "2023-05-07T22:46:02.732985167Z"
    }
   }
  },
  {
   "cell_type": "code",
   "execution_count": 3,
   "outputs": [],
   "source": [
    "def tanh(x):  # Define a function\n",
    "  y = jnp.exp(-2.0 * x)\n",
    "  return (1.0 - y) / (1.0 + y)\n",
    "\n",
    "grad_tanh = grad(tanh)  # Obtain its gradient functio"
   ],
   "metadata": {
    "collapsed": false,
    "ExecuteTime": {
     "end_time": "2023-05-07T22:46:05.701436097Z",
     "start_time": "2023-05-07T22:46:02.737686028Z"
    }
   }
  },
  {
   "cell_type": "code",
   "execution_count": 4,
   "outputs": [
    {
     "name": "stdout",
     "output_type": "stream",
     "text": [
      "0.4199743\n"
     ]
    }
   ],
   "source": [
    "print(grad_tanh(1.0))  # Evaluate it at x = 1.0"
   ],
   "metadata": {
    "collapsed": false,
    "ExecuteTime": {
     "end_time": "2023-05-07T22:46:05.705660081Z",
     "start_time": "2023-05-07T22:46:02.749274073Z"
    }
   }
  },
  {
   "cell_type": "code",
   "execution_count": 5,
   "outputs": [
    {
     "name": "stdout",
     "output_type": "stream",
     "text": [
      "0.6216266\n"
     ]
    }
   ],
   "source": [
    "print(grad(grad(grad_tanh))(1.0))"
   ],
   "metadata": {
    "collapsed": false,
    "ExecuteTime": {
     "end_time": "2023-05-07T22:46:05.707474424Z",
     "start_time": "2023-05-07T22:46:03.915397274Z"
    }
   }
  },
  {
   "cell_type": "code",
   "execution_count": 6,
   "outputs": [],
   "source": [
    "def f(x):\n",
    "  return jnp.array([\n",
    "      x[0] ** 6 * x[1] ** 4 * x[2] ** 9 * x[3] ** 2,\n",
    "      x[0] ** 2 * x[1] ** 3 * x[2] ** 5 * x[3] ** 3,\n",
    "      x[0] ** 5 * x[1] ** 7 * x[2] ** 7 * x[3] ** 6,\n",
    "  ])"
   ],
   "metadata": {
    "collapsed": false,
    "ExecuteTime": {
     "end_time": "2023-05-07T22:46:05.707892651Z",
     "start_time": "2023-05-07T22:46:05.106680426Z"
    }
   }
  },
  {
   "cell_type": "code",
   "execution_count": 7,
   "outputs": [],
   "source": [
    "evaluation_point = jnp.array([1.0, 0.5, 1.5, 2.0])"
   ],
   "metadata": {
    "collapsed": false,
    "ExecuteTime": {
     "end_time": "2023-05-07T22:46:05.708215990Z",
     "start_time": "2023-05-07T22:46:05.109917918Z"
    }
   }
  },
  {
   "cell_type": "code",
   "execution_count": 8,
   "outputs": [
    {
     "data": {
      "text/plain": "Array([9.61084 , 7.59375 , 8.542969], dtype=float32)"
     },
     "execution_count": 8,
     "metadata": {},
     "output_type": "execute_result"
    }
   ],
   "source": [
    "f(evaluation_point)"
   ],
   "metadata": {
    "collapsed": false,
    "ExecuteTime": {
     "end_time": "2023-05-07T22:46:05.720926243Z",
     "start_time": "2023-05-07T22:46:05.123882854Z"
    }
   }
  },
  {
   "cell_type": "code",
   "execution_count": 9,
   "outputs": [],
   "source": [
    "f_jacfwd = jax.jacfwd(f)"
   ],
   "metadata": {
    "collapsed": false,
    "ExecuteTime": {
     "end_time": "2023-05-07T22:46:05.721720160Z",
     "start_time": "2023-05-07T22:46:05.702228220Z"
    }
   }
  },
  {
   "cell_type": "code",
   "execution_count": 10,
   "outputs": [],
   "source": [
    "full_jacobian = f_jacfwd(evaluation_point)"
   ],
   "metadata": {
    "collapsed": false,
    "ExecuteTime": {
     "end_time": "2023-05-07T22:46:06.517881169Z",
     "start_time": "2023-05-07T22:46:05.706137410Z"
    }
   }
  },
  {
   "cell_type": "code",
   "execution_count": 11,
   "outputs": [
    {
     "data": {
      "text/plain": "(3, 4)"
     },
     "execution_count": 11,
     "metadata": {},
     "output_type": "execute_result"
    }
   ],
   "source": [
    "full_jacobian.shape"
   ],
   "metadata": {
    "collapsed": false,
    "ExecuteTime": {
     "end_time": "2023-05-07T22:46:06.525523783Z",
     "start_time": "2023-05-07T22:46:06.520411433Z"
    }
   }
  },
  {
   "cell_type": "code",
   "execution_count": 12,
   "outputs": [
    {
     "data": {
      "text/plain": "Array([[ 57.66504 ,  76.88672 ,  57.66504 ,   9.61084 ],\n       [ 15.1875  ,  45.5625  ,  25.3125  ,  11.390625],\n       [ 42.714844, 119.60156 ,  39.867188,  25.628906]], dtype=float32)"
     },
     "execution_count": 12,
     "metadata": {},
     "output_type": "execute_result"
    }
   ],
   "source": [
    "full_jacobian"
   ],
   "metadata": {
    "collapsed": false,
    "ExecuteTime": {
     "end_time": "2023-05-07T22:46:06.538141434Z",
     "start_time": "2023-05-07T22:46:06.524176558Z"
    }
   }
  },
  {
   "cell_type": "code",
   "execution_count": 13,
   "outputs": [],
   "source": [
    "multiplication_point = jnp.array([0.2, 0.3, 0.4, 0.8])"
   ],
   "metadata": {
    "collapsed": false,
    "ExecuteTime": {
     "end_time": "2023-05-07T22:46:06.574906006Z",
     "start_time": "2023-05-07T22:46:06.536453024Z"
    }
   }
  },
  {
   "cell_type": "code",
   "execution_count": 14,
   "outputs": [
    {
     "data": {
      "text/plain": "Array([65.353714, 35.94375 , 80.87344 ], dtype=float32)"
     },
     "execution_count": 14,
     "metadata": {},
     "output_type": "execute_result"
    }
   ],
   "source": [
    "jnp.matmul(full_jacobian, multiplication_point) # full_jacobian @ multiplication_point"
   ],
   "metadata": {
    "collapsed": false,
    "ExecuteTime": {
     "end_time": "2023-05-07T22:46:06.627002010Z",
     "start_time": "2023-05-07T22:46:06.542370250Z"
    }
   }
  },
  {
   "cell_type": "code",
   "execution_count": 15,
   "outputs": [],
   "source": [
    "f_evaluated, jvp_evaluated = jax.jvp(f, (evaluation_point,), (multiplication_point,))"
   ],
   "metadata": {
    "collapsed": false,
    "ExecuteTime": {
     "end_time": "2023-05-07T22:46:06.710299811Z",
     "start_time": "2023-05-07T22:46:06.626574281Z"
    }
   }
  },
  {
   "cell_type": "code",
   "execution_count": 16,
   "outputs": [
    {
     "data": {
      "text/plain": "Array([9.61084 , 7.59375 , 8.542969], dtype=float32)"
     },
     "execution_count": 16,
     "metadata": {},
     "output_type": "execute_result"
    }
   ],
   "source": [
    "f_evaluated"
   ],
   "metadata": {
    "collapsed": false,
    "ExecuteTime": {
     "end_time": "2023-05-07T22:46:06.756905906Z",
     "start_time": "2023-05-07T22:46:06.711287168Z"
    }
   }
  },
  {
   "cell_type": "code",
   "execution_count": 17,
   "outputs": [
    {
     "data": {
      "text/plain": "Array([65.353714, 35.943752, 80.87344 ], dtype=float32)"
     },
     "execution_count": 17,
     "metadata": {},
     "output_type": "execute_result"
    }
   ],
   "source": [
    "jvp_evaluated"
   ],
   "metadata": {
    "collapsed": false,
    "ExecuteTime": {
     "end_time": "2023-05-07T22:46:06.757683924Z",
     "start_time": "2023-05-07T22:46:06.756494943Z"
    }
   }
  }
 ],
 "metadata": {
  "kernelspec": {
   "display_name": "Python 3",
   "language": "python",
   "name": "python3"
  },
  "language_info": {
   "codemirror_mode": {
    "name": "ipython",
    "version": 2
   },
   "file_extension": ".py",
   "mimetype": "text/x-python",
   "name": "python",
   "nbconvert_exporter": "python",
   "pygments_lexer": "ipython2",
   "version": "2.7.6"
  }
 },
 "nbformat": 4,
 "nbformat_minor": 0
}
