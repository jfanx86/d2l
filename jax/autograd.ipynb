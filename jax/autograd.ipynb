{
 "cells": [
  {
   "cell_type": "code",
   "execution_count": 1,
   "metadata": {
    "collapsed": true,
    "ExecuteTime": {
     "end_time": "2023-05-07T23:03:21.850614565Z",
     "start_time": "2023-05-07T23:03:21.564080994Z"
    }
   },
   "outputs": [],
   "source": [
    "import jax\n",
    "import jax.numpy as jnp"
   ]
  },
  {
   "cell_type": "code",
   "execution_count": 2,
   "outputs": [],
   "source": [
    "from jax import grad, jit, vmap\n",
    "from jax import random"
   ],
   "metadata": {
    "collapsed": false,
    "ExecuteTime": {
     "end_time": "2023-05-07T23:03:21.853590982Z",
     "start_time": "2023-05-07T23:03:21.851629170Z"
    }
   }
  },
  {
   "cell_type": "code",
   "execution_count": 3,
   "outputs": [],
   "source": [
    "def tanh(x):  # Define a function\n",
    "  y = jnp.exp(-2.0 * x)\n",
    "  return (1.0 - y) / (1.0 + y)\n",
    "\n",
    "grad_tanh = grad(tanh)  # Obtain its gradient functio"
   ],
   "metadata": {
    "collapsed": false,
    "ExecuteTime": {
     "end_time": "2023-05-07T23:03:21.865351148Z",
     "start_time": "2023-05-07T23:03:21.855016081Z"
    }
   }
  },
  {
   "cell_type": "code",
   "execution_count": 4,
   "outputs": [
    {
     "name": "stdout",
     "output_type": "stream",
     "text": [
      "0.4199743\n"
     ]
    }
   ],
   "source": [
    "print(grad_tanh(1.0))  # Evaluate it at x = 1.0"
   ],
   "metadata": {
    "collapsed": false,
    "ExecuteTime": {
     "end_time": "2023-05-07T23:03:22.712962838Z",
     "start_time": "2023-05-07T23:03:21.867379082Z"
    }
   }
  },
  {
   "cell_type": "code",
   "execution_count": 5,
   "outputs": [
    {
     "name": "stdout",
     "output_type": "stream",
     "text": [
      "0.6216266\n"
     ]
    }
   ],
   "source": [
    "print(grad(grad(grad_tanh))(1.0))"
   ],
   "metadata": {
    "collapsed": false,
    "ExecuteTime": {
     "end_time": "2023-05-07T23:03:24.111282456Z",
     "start_time": "2023-05-07T23:03:22.720725683Z"
    }
   }
  },
  {
   "cell_type": "code",
   "execution_count": 6,
   "outputs": [],
   "source": [
    "def f(x):\n",
    "  return jnp.array([\n",
    "      x[0] ** 6 * x[1] ** 4 * x[2] ** 9 * x[3] ** 2,\n",
    "      x[0] ** 2 * x[1] ** 3 * x[2] ** 5 * x[3] ** 3,\n",
    "      x[0] ** 5 * x[1] ** 7 * x[2] ** 7 * x[3] ** 6,\n",
    "  ])"
   ],
   "metadata": {
    "collapsed": false,
    "ExecuteTime": {
     "end_time": "2023-05-07T23:03:24.115521812Z",
     "start_time": "2023-05-07T23:03:24.113559345Z"
    }
   }
  },
  {
   "cell_type": "code",
   "execution_count": 7,
   "outputs": [],
   "source": [
    "evaluation_point = jnp.array([1.0, 0.5, 1.5, 2.0])"
   ],
   "metadata": {
    "collapsed": false,
    "ExecuteTime": {
     "end_time": "2023-05-07T23:03:24.127933627Z",
     "start_time": "2023-05-07T23:03:24.116955712Z"
    }
   }
  },
  {
   "cell_type": "code",
   "execution_count": 8,
   "outputs": [
    {
     "data": {
      "text/plain": "Array([9.61084 , 7.59375 , 8.542969], dtype=float32)"
     },
     "execution_count": 8,
     "metadata": {},
     "output_type": "execute_result"
    }
   ],
   "source": [
    "f(evaluation_point)"
   ],
   "metadata": {
    "collapsed": false,
    "ExecuteTime": {
     "end_time": "2023-05-07T23:03:24.717177535Z",
     "start_time": "2023-05-07T23:03:24.128738592Z"
    }
   }
  },
  {
   "cell_type": "code",
   "execution_count": 9,
   "outputs": [],
   "source": [
    "f_jacfwd = jax.jacfwd(f)"
   ],
   "metadata": {
    "collapsed": false,
    "ExecuteTime": {
     "end_time": "2023-05-07T23:03:24.719027593Z",
     "start_time": "2023-05-07T23:03:24.717444247Z"
    }
   }
  },
  {
   "cell_type": "code",
   "execution_count": 10,
   "outputs": [],
   "source": [
    "full_jacobian = f_jacfwd(evaluation_point)"
   ],
   "metadata": {
    "collapsed": false,
    "ExecuteTime": {
     "end_time": "2023-05-07T23:03:25.539270615Z",
     "start_time": "2023-05-07T23:03:24.720953081Z"
    }
   }
  },
  {
   "cell_type": "code",
   "execution_count": 11,
   "outputs": [
    {
     "data": {
      "text/plain": "(3, 4)"
     },
     "execution_count": 11,
     "metadata": {},
     "output_type": "execute_result"
    }
   ],
   "source": [
    "full_jacobian.shape"
   ],
   "metadata": {
    "collapsed": false,
    "ExecuteTime": {
     "end_time": "2023-05-07T23:03:25.543896778Z",
     "start_time": "2023-05-07T23:03:25.542369623Z"
    }
   }
  },
  {
   "cell_type": "code",
   "execution_count": 12,
   "outputs": [
    {
     "data": {
      "text/plain": "Array([[ 57.66504 ,  76.88672 ,  57.66504 ,   9.61084 ],\n       [ 15.1875  ,  45.5625  ,  25.3125  ,  11.390625],\n       [ 42.714844, 119.60156 ,  39.867188,  25.628906]], dtype=float32)"
     },
     "execution_count": 12,
     "metadata": {},
     "output_type": "execute_result"
    }
   ],
   "source": [
    "full_jacobian"
   ],
   "metadata": {
    "collapsed": false,
    "ExecuteTime": {
     "end_time": "2023-05-07T23:03:25.556735290Z",
     "start_time": "2023-05-07T23:03:25.545764714Z"
    }
   }
  },
  {
   "cell_type": "code",
   "execution_count": 13,
   "outputs": [],
   "source": [
    "multiplication_point = jnp.array([0.2, 0.3, 0.4, 0.8])"
   ],
   "metadata": {
    "collapsed": false,
    "ExecuteTime": {
     "end_time": "2023-05-07T23:03:25.594569007Z",
     "start_time": "2023-05-07T23:03:25.557881779Z"
    }
   }
  },
  {
   "cell_type": "code",
   "execution_count": 14,
   "outputs": [
    {
     "data": {
      "text/plain": "Array([65.353714, 35.94375 , 80.87344 ], dtype=float32)"
     },
     "execution_count": 14,
     "metadata": {},
     "output_type": "execute_result"
    }
   ],
   "source": [
    "jnp.matmul(full_jacobian, multiplication_point) # full_jacobian @ multiplication_point"
   ],
   "metadata": {
    "collapsed": false,
    "ExecuteTime": {
     "end_time": "2023-05-07T23:03:25.664505222Z",
     "start_time": "2023-05-07T23:03:25.569269240Z"
    }
   }
  },
  {
   "cell_type": "code",
   "execution_count": 15,
   "outputs": [],
   "source": [
    "f_evaluated, jvp_evaluated = jax.jvp(f, (evaluation_point,), (multiplication_point,))"
   ],
   "metadata": {
    "collapsed": false,
    "ExecuteTime": {
     "end_time": "2023-05-07T23:03:25.765900851Z",
     "start_time": "2023-05-07T23:03:25.663580965Z"
    }
   }
  },
  {
   "cell_type": "code",
   "execution_count": 16,
   "outputs": [
    {
     "data": {
      "text/plain": "Array([9.61084 , 7.59375 , 8.542969], dtype=float32)"
     },
     "execution_count": 16,
     "metadata": {},
     "output_type": "execute_result"
    }
   ],
   "source": [
    "f_evaluated"
   ],
   "metadata": {
    "collapsed": false,
    "ExecuteTime": {
     "end_time": "2023-05-07T23:03:25.770810694Z",
     "start_time": "2023-05-07T23:03:25.766671387Z"
    }
   }
  },
  {
   "cell_type": "code",
   "execution_count": 17,
   "outputs": [
    {
     "data": {
      "text/plain": "Array([65.353714, 35.943752, 80.87344 ], dtype=float32)"
     },
     "execution_count": 17,
     "metadata": {},
     "output_type": "execute_result"
    }
   ],
   "source": [
    "jvp_evaluated"
   ],
   "metadata": {
    "collapsed": false,
    "ExecuteTime": {
     "end_time": "2023-05-07T23:03:25.820161553Z",
     "start_time": "2023-05-07T23:03:25.771927530Z"
    }
   }
  },
  {
   "cell_type": "code",
   "execution_count": null,
   "outputs": [],
   "source": [],
   "metadata": {
    "collapsed": false
   }
  },
  {
   "cell_type": "code",
   "execution_count": 18,
   "outputs": [],
   "source": [
    "f_jacrev = jax.jacrev(f)"
   ],
   "metadata": {
    "collapsed": false,
    "ExecuteTime": {
     "end_time": "2023-05-07T23:22:20.240536872Z",
     "start_time": "2023-05-07T23:22:20.236197046Z"
    }
   }
  },
  {
   "cell_type": "code",
   "execution_count": 21,
   "outputs": [
    {
     "data": {
      "text/plain": "Array([[ 57.66504 ,  76.88672 ,  57.66504 ,   9.61084 ],\n       [ 15.1875  ,  45.5625  ,  25.3125  ,  11.390625],\n       [ 42.714844, 119.60156 ,  39.867188,  25.628906]], dtype=float32)"
     },
     "execution_count": 21,
     "metadata": {},
     "output_type": "execute_result"
    }
   ],
   "source": [
    "f_jacrev(evaluation_point)"
   ],
   "metadata": {
    "collapsed": false,
    "ExecuteTime": {
     "end_time": "2023-05-07T23:22:43.172426601Z",
     "start_time": "2023-05-07T23:22:42.177071126Z"
    }
   }
  },
  {
   "cell_type": "code",
   "execution_count": 22,
   "outputs": [],
   "source": [
    "def hessian(fun):\n",
    "  return jit(jax.jacfwd(jax.jacrev(fun)))"
   ],
   "metadata": {
    "collapsed": false,
    "ExecuteTime": {
     "end_time": "2023-05-07T23:23:35.195411440Z",
     "start_time": "2023-05-07T23:23:35.187905542Z"
    }
   }
  },
  {
   "cell_type": "code",
   "execution_count": 26,
   "outputs": [
    {
     "data": {
      "text/plain": "(3, 4, 4)"
     },
     "execution_count": 26,
     "metadata": {},
     "output_type": "execute_result"
    }
   ],
   "source": [
    "hessian(f)(evaluation_point)"
   ],
   "metadata": {
    "collapsed": false,
    "ExecuteTime": {
     "end_time": "2023-05-07T23:24:01.971783266Z",
     "start_time": "2023-05-07T23:24:01.662315388Z"
    }
   }
  },
  {
   "cell_type": "code",
   "execution_count": 27,
   "outputs": [],
   "source": [
    "def abs_val(x):\n",
    "  if x > 0:\n",
    "    return x\n",
    "  else:\n",
    "    return -x"
   ],
   "metadata": {
    "collapsed": false,
    "ExecuteTime": {
     "end_time": "2023-05-07T23:24:38.613666920Z",
     "start_time": "2023-05-07T23:24:38.558498056Z"
    }
   }
  },
  {
   "cell_type": "code",
   "execution_count": 28,
   "outputs": [],
   "source": [
    "abs_val_grad = grad(abs_val)"
   ],
   "metadata": {
    "collapsed": false,
    "ExecuteTime": {
     "end_time": "2023-05-07T23:24:42.407238511Z",
     "start_time": "2023-05-07T23:24:42.404478511Z"
    }
   }
  },
  {
   "cell_type": "code",
   "execution_count": 30,
   "outputs": [
    {
     "name": "stdout",
     "output_type": "stream",
     "text": [
      "1.0\n",
      "-1.0\n"
     ]
    }
   ],
   "source": [
    "print(abs_val_grad(2.0))   # prints 1.0\n",
    "print(abs_val_grad(-2.0))  # prints -1.0 (abs_val is re-evaluated)"
   ],
   "metadata": {
    "collapsed": false,
    "ExecuteTime": {
     "end_time": "2023-05-07T23:24:54.039633680Z",
     "start_time": "2023-05-07T23:24:53.996509824Z"
    }
   }
  }
 ],
 "metadata": {
  "kernelspec": {
   "display_name": "Python 3",
   "language": "python",
   "name": "python3"
  },
  "language_info": {
   "codemirror_mode": {
    "name": "ipython",
    "version": 2
   },
   "file_extension": ".py",
   "mimetype": "text/x-python",
   "name": "python",
   "nbconvert_exporter": "python",
   "pygments_lexer": "ipython2",
   "version": "2.7.6"
  }
 },
 "nbformat": 4,
 "nbformat_minor": 0
}
